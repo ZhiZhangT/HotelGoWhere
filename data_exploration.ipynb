{
 "cells": [
  {
   "cell_type": "code",
   "execution_count": 2,
   "metadata": {},
   "outputs": [
    {
     "data": {
      "text/plain": [
       "'https://ascendahotels.mocklab.io/api/destinations/WD0M/prices'"
      ]
     },
     "execution_count": 2,
     "metadata": {},
     "output_type": "execute_result"
    }
   ],
   "source": [
    "destination_ids = {\n",
    "    \"Singapore, Changi\": \"WD0M\",\n",
    "    \"Singapore\": \"RsBU\",\n",
    "    \"Kuala Lumpur\": \"EzoR\"\n",
    "}\n",
    "\n",
    "get_dest_endpoint = lambda x: f\"https://ascendahotels.mocklab.io/api/destinations/{x}/prices\"\n",
    "\n",
    "hotel_ids = {\n",
    "    \"Fullerton Hotel\": \"diH7\",\n",
    "    \"Hotel Bencoolen\": \"f0fe\",\n",
    "    \"Sofitel Singapore Sentosa Resort and SPA\": \"kSVF\",\n",
    "}\n",
    "\n",
    "get_dest_url = lambda x: f\"https://ascendahotels.mocklab.io/api/destinations/{x}/prices\"\n",
    "\n",
    "def get_hotel_endpoint(hotel_id):\n",
    "    return {\n",
    "        provider: f\"https://ascendahotels.mocklab.io/api/hotels/{hotel_id}/prices/{provider}\"\n",
    "        for provider in [\"bedscom\", \"wgl\", \"ean\"]\n",
    "    }\n",
    "\n",
    "get_dest_endpoint(\"WD0M\")"
   ]
  },
  {
   "cell_type": "code",
   "execution_count": 3,
   "metadata": {},
   "outputs": [],
   "source": [
    "import json\n",
    "with open(\"data/destinations/destinations.json\", encoding=\"utf8\") as fp:\n",
    "    data = json.loads(fp.read())"
   ]
  },
  {
   "cell_type": "code",
   "execution_count": 4,
   "metadata": {},
   "outputs": [
    {
     "name": "stdout",
     "output_type": "stream",
     "text": [
      "{'lat': 51.933146,\n",
      " 'lng': -8.565562,\n",
      " 'term': 'Blarney Woolen Mills, Blarney, Ireland',\n",
      " 'type': 'shopping',\n",
      " 'uid': 'ZDfs'}\n"
     ]
    }
   ],
   "source": [
    "import pprint\n",
    "\n",
    "pp = pprint.PrettyPrinter()\n",
    "\n",
    "pp.pprint(data[42911])"
   ]
  },
  {
   "cell_type": "code",
   "execution_count": 7,
   "metadata": {},
   "outputs": [
    {
     "name": "stdout",
     "output_type": "stream",
     "text": [
      "['Casino', 'Shopping', 'Stadium', 'airport', 'anchor', 'business', 'casino', 'city', 'civic', 'district', 'golf', 'historic', 'icecream', 'medical', 'monument', 'museums', 'school', 'shopping', 'sign', 'skiing', 'stadium', 'sunglass', 'theater', 'tree', 'winery']\n"
     ]
    }
   ],
   "source": [
    "types = []\n",
    "for i in range(len(data)):\n",
    "    if data[i]['type'] not in types:\n",
    "        types.append(data[i]['type'])\n",
    "        \n",
    "print(sorted(types))"
   ]
  },
  {
   "cell_type": "code",
   "execution_count": 9,
   "metadata": {},
   "outputs": [
    {
     "name": "stdout",
     "output_type": "stream",
     "text": [
      "['Casino', 'Shopping', 'Stadium', 'airport', 'anchor', 'business', 'casino', 'city', 'civic', 'district', 'golf', 'historic', 'icecream', 'medical', 'monument', 'museums', 'school', 'shopping', 'sign', 'skiing', 'stadium', 'sunglass', 'theater', 'tree', 'winery']\n"
     ]
    }
   ],
   "source": [
    "print(sorted({i[\"type\"] for i in data}))"
   ]
  },
  {
   "cell_type": "code",
   "execution_count": 13,
   "metadata": {},
   "outputs": [],
   "source": [
    "import requests\n",
    "\n",
    "response = requests.get(get_dest_endpoint(destination_ids[\"Singapore\"]))"
   ]
  },
  {
   "cell_type": "code",
   "execution_count": null,
   "metadata": {},
   "outputs": [],
   "source": [
    "pp.pprint(response.json())"
   ]
  },
  {
   "cell_type": "code",
   "execution_count": 20,
   "metadata": {},
   "outputs": [
    {
     "data": {
      "text/plain": [
       "bytes"
      ]
     },
     "execution_count": 20,
     "metadata": {},
     "output_type": "execute_result"
    }
   ],
   "source": [
    "def destination_pricing(destination_id, argdict):\n",
    "    return requests.get(f\"hotelapi/loyalty/dev\")\n",
    "\n",
    "def hotel_pricing(hotel_id, argdict):\n",
    "    return requests.get(f\"hotelapi.loyalty.dev/api/hotels/{hotel_id}/price\", params=argdict)\n",
    "\n",
    "def destination_info(destination_id, argdict):\n",
    "    # The user should be able to search using parts of the name\n",
    "    # Destination ID: Your search will need to use this ID for pulling results\n",
    "    pass\n",
    "\n",
    "def hotel_info(hotel_id, argdict):\n",
    "    # Hotel ID: You search will need to use this ID for pulling results\n",
    "\n",
    "    pass\n",
    "\n",
    "\n",
    "\n",
    "\n",
    "hotel_args = {} # Same as destination args, hotel ID passed in the URL"
   ]
  },
  {
   "cell_type": "code",
   "execution_count": null,
   "metadata": {},
   "outputs": [],
   "source": [
    "# Pricing endpoints\n",
    "f\"https://hotelapi.loyalty.dev/api/hotels/prices\"\n",
    "f\"https://hotelapi.loyalty.dev/api/hotels/{hotel_id}/price\"\n",
    "\n",
    "destination_args = {\n",
    "    \"destination_id\": \"\",\n",
    "    \"checkin\": \"YYYY-MM-DD\",\n",
    "    \"checkout\": \"YYYY-MM-DD\",\n",
    "    \"lang\": \"en_US\",\n",
    "    \"currency\": \"\",     # ISO code for currencies\n",
    "    \"guests\": \"3\",\n",
    "    \"partner_id\": \"1\"   # Not used for this project, use '1'\n",
    "}\n",
    "\n",
    "response_attr = {\n",
    "    \"id\": \"\",           # Hotel ID\n",
    "    \"searchRank\": \"\",   # Internal ranking of hotel pricing results (price + loyalty points earning)\n",
    "    \"price\": \"\",        # Price of hotel room (incl. of taxes and fees)\n",
    "    \"market_rates\": \"\", # Prices of equivalent rooms for a given supplier\n",
    "}\n",
    "\n",
    "# Static endpoints\n",
    "f\"https://hotelapi.loyalty.dev/api/hotels\"\n",
    "f\"https://hotelapi.loyalty.dev/api/hotels/{hotel_id}\"\n",
    "\n",
    "\n"
   ]
  }
 ],
 "metadata": {
  "interpreter": {
   "hash": "19874564d1ad227b4376cdb3a4cf5817845675b33b1922dc244c45e64fba8104"
  },
  "kernelspec": {
   "display_name": "Python 3.10.4 64-bit",
   "language": "python",
   "name": "python3"
  },
  "language_info": {
   "codemirror_mode": {
    "name": "ipython",
    "version": 3
   },
   "file_extension": ".py",
   "mimetype": "text/x-python",
   "name": "python",
   "nbconvert_exporter": "python",
   "pygments_lexer": "ipython3",
   "version": "3.10.4"
  },
  "orig_nbformat": 4
 },
 "nbformat": 4,
 "nbformat_minor": 2
}
