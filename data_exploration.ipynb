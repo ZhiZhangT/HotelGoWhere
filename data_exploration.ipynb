{
 "cells": [
  {
   "cell_type": "code",
   "execution_count": 2,
   "metadata": {},
   "outputs": [
    {
     "data": {
      "text/plain": [
       "'https://ascendahotels.mocklab.io/api/destinations/WD0M/prices'"
      ]
     },
     "execution_count": 2,
     "metadata": {},
     "output_type": "execute_result"
    }
   ],
   "source": [
    "destination_ids = {\n",
    "    \"Singapore, Changi\": \"WD0M\",\n",
    "    \"Singapore\": \"RsBU\",\n",
    "    \"Kuala Lumpur\": \"EzoR\"\n",
    "}\n",
    "\n",
    "get_dest_endpoint = lambda x: f\"https://ascendahotels.mocklab.io/api/destinations/{x}/prices\"\n",
    "\n",
    "hotel_ids = {\n",
    "    \"Fullerton Hotel\": \"diH7\",\n",
    "    \"Hotel Bencoolen\": \"f0fe\",\n",
    "    \"Sofitel Singapore Sentosa Resort and SPA\": \"kSVF\",\n",
    "}\n",
    "\n",
    "get_dest_url = lambda x: f\"https://ascendahotels.mocklab.io/api/destinations/{x}/prices\"\n",
    "\n",
    "def get_hotel_endpoint(hotel_id):\n",
    "    return {\n",
    "        provider: f\"https://ascendahotels.mocklab.io/api/hotels/{hotel_id}/prices/{provider}\"\n",
    "        for provider in [\"bedscom\", \"wgl\", \"ean\"]\n",
    "    }\n",
    "\n",
    "get_dest_endpoint(\"WD0M\")"
   ]
  },
  {
   "cell_type": "code",
   "execution_count": 3,
   "metadata": {},
   "outputs": [],
   "source": [
    "import json\n",
    "with open(\"data/destinations/destinations.json\", encoding=\"utf8\") as fp:\n",
    "    data = json.loads(fp.read())"
   ]
  },
  {
   "cell_type": "code",
   "execution_count": 23,
   "metadata": {},
   "outputs": [
    {
     "name": "stdout",
     "output_type": "stream",
     "text": [
      "{'type': 'airport'}\n"
     ]
    }
   ],
   "source": [
    "import pprint\n",
    "\n",
    "pp = pprint.PrettyPrinter()\n",
    "\n",
    "pp.pprint(data[74274])"
   ]
  },
  {
   "cell_type": "code",
   "execution_count": 21,
   "metadata": {},
   "outputs": [
    {
     "name": "stdout",
     "output_type": "stream",
     "text": [
      "15989\n",
      "{'term': 'Fulham, London, England, United Kingdom', 'uid': 'jC3Y', 'lat': 51.4760059, 'lng': -0.2014822, 'type': 'district'}\n"
     ]
    },
    {
     "data": {
      "text/plain": [
       "{'term': 'Rome, Italy',\n",
       " 'uid': 'A6Dz',\n",
       " 'lat': 41.895466,\n",
       " 'lng': 12.482324,\n",
       " 'type': 'city',\n",
       " 'state': 'Lazio'}"
      ]
     },
     "execution_count": 21,
     "metadata": {},
     "output_type": "execute_result"
    }
   ],
   "source": [
    "types = []\n",
    "for i in range(len(data)):\n",
    "    if data[i]['type'] not in types:\n",
    "        types.append(data[i]['type'])\n",
    "\n",
    "print(len([i for i in data if i[\"type\"] == \"city\"]))\n",
    "\n",
    "i = 0\n",
    "while (data[i][\"type\"] != \"district\"):\n",
    "    i += 1\n",
    "\n",
    "print(data[i])\n",
    "\n",
    "max_len = []\n",
    "for idx, val in enumerate(data):\n",
    "    if len(val) > len(max_len):\n",
    "        max_len = val\n",
    "max_len"
   ]
  },
  {
   "cell_type": "code",
   "execution_count": 12,
   "metadata": {},
   "outputs": [
    {
     "name": "stdout",
     "output_type": "stream",
     "text": [
      "['Casino', 'Shopping', 'Stadium', 'airport', 'anchor', 'business', 'casino', 'city', 'civic', 'district', 'golf', 'historic', 'icecream', 'medical', 'monument', 'museums', 'school', 'shopping', 'sign', 'skiing', 'stadium', 'sunglass', 'theater', 'tree', 'winery']\n",
      "74280\n"
     ]
    }
   ],
   "source": [
    "print(sorted({i[\"type\"] for i in data}))\n",
    "print(len(data))"
   ]
  },
  {
   "cell_type": "code",
   "execution_count": 10,
   "metadata": {},
   "outputs": [],
   "source": [
    "import requests\n",
    "\n",
    "# response = requests.get(get_dest_endpoint(destination_ids[\"Singapore\"]))\n",
    "hotel_response = requests.get(get_hotel_endpoint(hotel_ids[\"Fullerton Hotel\"])[\"bedscom\"])"
   ]
  },
  {
   "cell_type": "code",
   "execution_count": 11,
   "metadata": {},
   "outputs": [
    {
     "name": "stdout",
     "output_type": "stream",
     "text": [
      "{'completed': True,\n",
      " 'rooms': [{'key': '4A0E650547B2BEB93E9163B786F5F849', 'price': 568.66},\n",
      "           {'key': '400C4CDC461AF1DE54B976E30ADB595F', 'price': 580.05},\n",
      "           {'key': 'FE1610EDB049D7C0DE7B8528BC7B68EA', 'price': 630.55},\n",
      "           {'key': 'a19B343DC6BE5449847C1450621F5C419', 'price': 639.55},\n",
      "           {'key': '987EF4FCF2270541803E994D54D027C4', 'price': 686.49},\n",
      "           {'key': '4B21270C445C4A0BCD51D9539842E2FF', 'price': 738.44},\n",
      "           {'key': 'A7C355A2D30885C47B37BD3DF4C60D28', 'price': 738.44},\n",
      "           {'key': '845344508516A6D09160A9F9F04B474B', 'price': 739.99},\n",
      "           {'key': 'A62DEEC5AE49104225302F2A56DCAD66', 'price': 766.36},\n",
      "           {'key': '9387BB21935FBBC9512E895107A679F6', 'price': 800.99},\n",
      "           {'key': '64BC421D2872085E7B6080FB2C7E8798', 'price': 810.99},\n",
      "           {'key': 'C2A1C2928866AA2A53866A79B5647F2C', 'price': 900.99},\n",
      "           {'key': '0F2B8848D10A387C6A7D2E7FE754D0B5', 'price': 900.99},\n",
      "           {'key': '798CB567A4A09753EBEF93BF1250FD84', 'price': 900.99},\n",
      "           {'key': 'D3D13383037F6FF625BDA2A4C02E0E79', 'price': 969.99}]}\n"
     ]
    }
   ],
   "source": [
    "pp.pprint(hotel_response.json())"
   ]
  },
  {
   "cell_type": "code",
   "execution_count": 20,
   "metadata": {},
   "outputs": [
    {
     "data": {
      "text/plain": [
       "bytes"
      ]
     },
     "execution_count": 20,
     "metadata": {},
     "output_type": "execute_result"
    }
   ],
   "source": [
    "def destination_pricing(destination_id, argdict):\n",
    "    return requests.get(f\"hotelapi/loyalty/dev\")\n",
    "\n",
    "def hotel_pricing(hotel_id, argdict):\n",
    "    return requests.get(f\"hotelapi.loyalty.dev/api/hotels/{hotel_id}/price\", params=argdict)\n",
    "\n",
    "def destination_info(destination_id, argdict):\n",
    "    # The user should be able to search using parts of the name\n",
    "    # Destination ID: Your search will need to use this ID for pulling results\n",
    "    pass\n",
    "\n",
    "def hotel_info(hotel_id, argdict):\n",
    "    # Hotel ID: You search will need to use this ID for pulling results\n",
    "\n",
    "    pass\n",
    "\n",
    "\n",
    "\n",
    "\n",
    "hotel_args = {} # Same as destination args, hotel ID passed in the URL"
   ]
  },
  {
   "cell_type": "code",
   "execution_count": null,
   "metadata": {},
   "outputs": [],
   "source": [
    "# Pricing endpoints\n",
    "f\"https://hotelapi.loyalty.dev/api/hotels/prices\"\n",
    "f\"https://hotelapi.loyalty.dev/api/hotels/{hotel_id}/price\"\n",
    "\n",
    "destination_args = {\n",
    "    \"destination_id\": \"\",\n",
    "    \"checkin\": \"YYYY-MM-DD\",\n",
    "    \"checkout\": \"YYYY-MM-DD\",\n",
    "    \"lang\": \"en_US\",\n",
    "    \"currency\": \"\",     # ISO code for currencies\n",
    "    \"guests\": \"3\",\n",
    "    \"partner_id\": \"1\"   # Not used for this project, use '1'\n",
    "}\n",
    "\n",
    "response_attr = {\n",
    "    \"id\": \"\",           # Hotel ID\n",
    "    \"searchRank\": \"\",   # Internal ranking of hotel pricing results (price + loyalty points earning)\n",
    "    \"price\": \"\",        # Price of hotel room (incl. of taxes and fees)\n",
    "    \"market_rates\": \"\", # Prices of equivalent rooms for a given supplier\n",
    "}\n",
    "\n",
    "# Static endpoints\n",
    "f\"https://hotelapi.loyalty.dev/api/hotels\"\n",
    "f\"https://hotelapi.loyalty.dev/api/hotels/{hotel_id}\"\n",
    "\n",
    "\n"
   ]
  }
 ],
 "metadata": {
  "interpreter": {
   "hash": "19874564d1ad227b4376cdb3a4cf5817845675b33b1922dc244c45e64fba8104"
  },
  "kernelspec": {
   "display_name": "Python 3.10.4 64-bit",
   "language": "python",
   "name": "python3"
  },
  "language_info": {
   "codemirror_mode": {
    "name": "ipython",
    "version": 3
   },
   "file_extension": ".py",
   "mimetype": "text/x-python",
   "name": "python",
   "nbconvert_exporter": "python",
   "pygments_lexer": "ipython3",
   "version": "3.10.4"
  },
  "orig_nbformat": 4
 },
 "nbformat": 4,
 "nbformat_minor": 2
}
