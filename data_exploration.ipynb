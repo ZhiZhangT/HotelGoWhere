{
 "cells": [
  {
   "cell_type": "code",
   "execution_count": 24,
   "metadata": {},
   "outputs": [
    {
     "data": {
      "text/plain": [
       "'https://ascendahotels.mocklab.io/api/destinations/WD0M/prices'"
      ]
     },
     "execution_count": 24,
     "metadata": {},
     "output_type": "execute_result"
    }
   ],
   "source": [
    "destination_ids = {\n",
    "    \"Singapore, Changi\": \"WD0M\",\n",
    "    \"Singapore\": \"RsBU\",\n",
    "    \"Kuala Lumpur\": \"EzoR\"\n",
    "}\n",
    "\n",
    "get_dest_endpoint = lambda x: f\"https://ascendahotels.mocklab.io/api/destinations/{x}/prices\"\n",
    "\n",
    "hotel_ids = {\n",
    "    \"Fullerton Hotel\": \"diH7\",\n",
    "    \"Hotel Bencoolen\": \"f0fe\",\n",
    "    \"Sofitel Singapore Sentosa Resort and SPA\": \"kSVF\",\n",
    "}\n",
    "\n",
    "get_dest_url = lambda x: f\"https://ascendahotels.mocklab.io/api/destinations/{x}/prices\"\n",
    "\n",
    "def get_hotel_endpoint(hotel_id):\n",
    "    return {\n",
    "        provider: f\"https://ascendahotels.mocklab.io/api/hotels/{hotel_id}/prices/{provider}\"\n",
    "        for provider in [\"bedscom\", \"wgl\", \"ean\"]\n",
    "    }\n",
    "\n",
    "get_dest_endpoint(\"WD0M\")"
   ]
  },
  {
   "cell_type": "code",
   "execution_count": null,
   "metadata": {},
   "outputs": [],
   "source": [
    "import json\n",
    "with open(\"data/destinations/destinations.json\", encoding=\"utf8\") as fp:\n",
    "    data = json.loads(fp.read())"
   ]
  },
  {
   "cell_type": "code",
   "execution_count": null,
   "metadata": {},
   "outputs": [
    {
     "name": "stdout",
     "output_type": "stream",
     "text": [
      "{'type': 'airport'}\n"
     ]
    }
   ],
   "source": [
    "import pprint\n",
    "\n",
    "pp = pprint.PrettyPrinter()\n",
    "\n",
    "pp.pprint(data[74274])"
   ]
  },
  {
   "cell_type": "code",
   "execution_count": 35,
   "metadata": {},
   "outputs": [
    {
     "name": "stdout",
     "output_type": "stream",
     "text": [
      "15989\n",
      "{'term': 'Fulham, London, England, United Kingdom', 'uid': 'jC3Y', 'lat': 51.4760059, 'lng': -0.2014822, 'type': 'district'}\n"
     ]
    },
    {
     "data": {
      "text/plain": [
       "{'term': 'Rome, Italy',\n",
       " 'uid': 'A6Dz',\n",
       " 'lat': 41.895466,\n",
       " 'lng': 12.482324,\n",
       " 'type': 'city',\n",
       " 'state': 'Lazio'}"
      ]
     },
     "execution_count": 35,
     "metadata": {},
     "output_type": "execute_result"
    }
   ],
   "source": [
    "types = []\n",
    "for i in range(len(data)):\n",
    "    if data[i]['type'] not in types:\n",
    "        types.append(data[i]['type'])\n",
    "\n",
    "print(len([i for i in data if i[\"type\"] == \"city\"]))\n",
    "\n",
    "i = 0\n",
    "while (data[i][\"type\"] != \"district\"):\n",
    "    i += 1\n",
    "\n",
    "print(data[i])\n",
    "\n",
    "max_len = []\n",
    "for idx, val in enumerate(data):\n",
    "    if len(val) > len(max_len):\n",
    "        max_len = val\n",
    "max_len"
   ]
  },
  {
   "cell_type": "code",
   "execution_count": 36,
   "metadata": {},
   "outputs": [
    {
     "name": "stdout",
     "output_type": "stream",
     "text": [
      "['Casino', 'Shopping', 'Stadium', 'airport', 'anchor', 'business', 'casino', 'city', 'civic', 'district', 'golf', 'historic', 'icecream', 'medical', 'monument', 'museums', 'school', 'shopping', 'sign', 'skiing', 'stadium', 'sunglass', 'theater', 'tree', 'winery']\n",
      "74280\n"
     ]
    }
   ],
   "source": [
    "print(sorted({i[\"type\"] for i in data}))\n",
    "print(len(data))"
   ]
  },
  {
   "cell_type": "code",
   "execution_count": 37,
   "metadata": {},
   "outputs": [
    {
     "ename": "TypeError",
     "evalue": "get_hotel_endpoint() missing 4 required positional arguments: 'hotel_id', 'checkin', 'checkout', and 'guests'",
     "output_type": "error",
     "traceback": [
      "\u001b[1;31m---------------------------------------------------------------------------\u001b[0m",
      "\u001b[1;31mTypeError\u001b[0m                                 Traceback (most recent call last)",
      "\u001b[1;32mc:\\Users\\sharr\\Downloads\\c5g8_esc\\data_exploration.ipynb Cell 7'\u001b[0m in \u001b[0;36m<cell line: 4>\u001b[1;34m()\u001b[0m\n\u001b[0;32m      <a href='vscode-notebook-cell:/c%3A/Users/sharr/Downloads/c5g8_esc/data_exploration.ipynb#ch0000005?line=0'>1</a>\u001b[0m \u001b[39mimport\u001b[39;00m \u001b[39mrequests\u001b[39;00m\n\u001b[0;32m      <a href='vscode-notebook-cell:/c%3A/Users/sharr/Downloads/c5g8_esc/data_exploration.ipynb#ch0000005?line=2'>3</a>\u001b[0m \u001b[39m# response = requests.get(get_dest_endpoint(destination_ids[\"Singapore\"]))\u001b[39;00m\n\u001b[1;32m----> <a href='vscode-notebook-cell:/c%3A/Users/sharr/Downloads/c5g8_esc/data_exploration.ipynb#ch0000005?line=3'>4</a>\u001b[0m hotel_response \u001b[39m=\u001b[39m requests\u001b[39m.\u001b[39mget(get_hotel_endpoint(hotel_ids[\u001b[39m\"\u001b[39;49m\u001b[39mFullerton Hotel\u001b[39;49m\u001b[39m\"\u001b[39;49m])[\u001b[39m\"\u001b[39m\u001b[39mbedscom\u001b[39m\u001b[39m\"\u001b[39m])\n",
      "\u001b[1;31mTypeError\u001b[0m: get_hotel_endpoint() missing 4 required positional arguments: 'hotel_id', 'checkin', 'checkout', and 'guests'"
     ]
    }
   ],
   "source": [
    "import requests\n",
    "\n",
    "# response = requests.get(get_dest_endpoint(destination_ids[\"Singapore\"]))\n",
    "hotel_response = requests.get(get_hotel_endpoint(hotel_ids[\"Fullerton Hotel\"])[\"bedscom\"])"
   ]
  },
  {
   "cell_type": "code",
   "execution_count": null,
   "metadata": {},
   "outputs": [
    {
     "name": "stdout",
     "output_type": "stream",
     "text": [
      "{'completed': True,\n",
      " 'rooms': [{'key': '4A0E650547B2BEB93E9163B786F5F849', 'price': 568.66},\n",
      "           {'key': '400C4CDC461AF1DE54B976E30ADB595F', 'price': 580.05},\n",
      "           {'key': 'FE1610EDB049D7C0DE7B8528BC7B68EA', 'price': 630.55},\n",
      "           {'key': 'a19B343DC6BE5449847C1450621F5C419', 'price': 639.55},\n",
      "           {'key': '987EF4FCF2270541803E994D54D027C4', 'price': 686.49},\n",
      "           {'key': '4B21270C445C4A0BCD51D9539842E2FF', 'price': 738.44},\n",
      "           {'key': 'A7C355A2D30885C47B37BD3DF4C60D28', 'price': 738.44},\n",
      "           {'key': '845344508516A6D09160A9F9F04B474B', 'price': 739.99},\n",
      "           {'key': 'A62DEEC5AE49104225302F2A56DCAD66', 'price': 766.36},\n",
      "           {'key': '9387BB21935FBBC9512E895107A679F6', 'price': 800.99},\n",
      "           {'key': '64BC421D2872085E7B6080FB2C7E8798', 'price': 810.99},\n",
      "           {'key': 'C2A1C2928866AA2A53866A79B5647F2C', 'price': 900.99},\n",
      "           {'key': '0F2B8848D10A387C6A7D2E7FE754D0B5', 'price': 900.99},\n",
      "           {'key': '798CB567A4A09753EBEF93BF1250FD84', 'price': 900.99},\n",
      "           {'key': 'D3D13383037F6FF625BDA2A4C02E0E79', 'price': 969.99}]}\n"
     ]
    }
   ],
   "source": [
    "pp.pprint(hotel_response.json())"
   ]
  },
  {
   "cell_type": "code",
   "execution_count": null,
   "metadata": {},
   "outputs": [
    {
     "data": {
      "text/plain": [
       "bytes"
      ]
     },
     "execution_count": 20,
     "metadata": {},
     "output_type": "execute_result"
    }
   ],
   "source": [
    "def destination_pricing(destination_id, argdict):\n",
    "    return requests.get(f\"hotelapi/loyalty/dev\")\n",
    "\n",
    "def hotel_pricing(hotel_id, argdict):\n",
    "    return requests.get(f\"hotelapi.loyalty.dev/api/hotels/{hotel_id}/price\", params=argdict)\n",
    "\n",
    "def destination_info(destination_id, argdict):\n",
    "    # The user should be able to search using parts of the name\n",
    "    # Destination ID: Your search will need to use this ID for pulling results\n",
    "    pass\n",
    "\n",
    "def hotel_info(hotel_id, argdict):\n",
    "    # Hotel ID: You search will need to use this ID for pulling results\n",
    "\n",
    "    pass\n",
    "\n",
    "\n",
    "hotel_args = {} # Same as destination args, hotel ID passed in the URL"
   ]
  },
  {
   "cell_type": "code",
   "execution_count": null,
   "metadata": {},
   "outputs": [],
   "source": [
    "# Pricing endpoints\n",
    "f\"https://hotelapi.loyalty.dev/api/hotels/prices\"\n",
    "f\"https://hotelapi.loyalty.dev/api/hotels/{hotel_id}/price\"\n",
    "\n",
    "destination_args = {\n",
    "    \"destination_id\": \"\",\n",
    "    \"checkin\": \"YYYY-MM-DD\",\n",
    "    \"checkout\": \"YYYY-MM-DD\",\n",
    "    \"lang\": \"en_US\",\n",
    "    \"currency\": \"\",     # ISO code for currencies\n",
    "    \"guests\": \"3\",\n",
    "    \"partner_id\": \"1\"   # Not used for this project, use '1'\n",
    "}\n",
    "\n",
    "response_attr = {\n",
    "    \"id\": \"\",           # Hotel ID\n",
    "    \"searchRank\": \"\",   # Internal ranking of hotel pricing results (price + loyalty points earning)\n",
    "    \"price\": \"\",        # Price of hotel room (incl. of taxes and fees)\n",
    "    \"market_rates\": \"\", # Prices of equivalent rooms for a given supplier\n",
    "}\n",
    "\n",
    "# Static endpoints\n",
    "f\"https://hotelapi.loyalty.dev/api/hotels\"\n",
    "f\"https://hotelapi.loyalty.dev/api/hotels/{hotel_id}\"\n",
    "\n",
    "\n"
   ]
  },
  {
   "cell_type": "code",
   "execution_count": null,
   "metadata": {},
   "outputs": [],
   "source": [
    "import time\n",
    "\n",
    "def timer(func):\n",
    "    start = time.time()\n",
    "    func()\n",
    "    end = time.time()\n",
    "    print(f\"Function took {end - start}ms.\")"
   ]
  },
  {
   "cell_type": "code",
   "execution_count": null,
   "metadata": {},
   "outputs": [
    {
     "name": "stdout",
     "output_type": "stream",
     "text": [
      "Function took 6.368725061416626ms.\n",
      "Function took 9.891570568084717ms.\n",
      "Function took 1.9831457138061523ms.\n"
     ]
    }
   ],
   "source": [
    "timer(lambda : requests.get(get_hotel_endpoint(hotel_ids[\"Fullerton Hotel\"])[\"bedscom\"]))\n",
    "timer(lambda : requests.get(get_hotel_endpoint(hotel_ids[\"Fullerton Hotel\"])[\"wgl\"]))\n",
    "timer(lambda : requests.get(get_hotel_endpoint(hotel_ids[\"Fullerton Hotel\"])[\"ean\"]))"
   ]
  },
  {
   "cell_type": "markdown",
   "metadata": {},
   "source": [
    "Testing for hotel and room details"
   ]
  },
  {
   "cell_type": "code",
   "execution_count": 56,
   "metadata": {},
   "outputs": [],
   "source": [
    "import requests\n",
    "import pprint as pp\n",
    "import json"
   ]
  },
  {
   "cell_type": "code",
   "execution_count": 62,
   "metadata": {},
   "outputs": [],
   "source": [
    "# some e.g.\n",
    "destination_ids = {\n",
    "    \"Singapore, Changi\": \"WD0M\",\n",
    "    \"Singapore\": \"RsBU\",\n",
    "    \"Kuala Lumpur\": \"EzoR\"\n",
    "}\n",
    "hotel_ids = {\n",
    "    \"Fullerton Hotel\": \"diH7\",\n",
    "    \"Hotel Bencoolen\": \"f0fe\",\n",
    "    \"Sofitel Singapore Sentosa Resort and SPA\": \"kSVF\",\n",
    "}"
   ]
  },
  {
   "cell_type": "code",
   "execution_count": 63,
   "metadata": {},
   "outputs": [],
   "source": [
    "# methods to retrieve URL\n",
    "\n",
    "# static\n",
    "get_dest_endpoint = lambda x: f\"https://hotelapi.loyalty.dev/api/hotels?destination_id={x}\"\n",
    "\n",
    "# static\n",
    "get_hotel_endpoint = lambda x: f\"https://hotelapi.loyalty.dev/api/hotels/{x}\"\n",
    "\n",
    "# room prices - need to refresh \n",
    "def get_hotel_details_endpoint(destination_id,hotel_id,checkin, checkout, guests):\n",
    "    return f\"https://hotelapi.loyalty.dev/api/hotels/{hotel_id}/price?destination_id={destination_id}&checkin={checkin}&checkout={checkout}&lang=en_US&currency=SGD&country_code=SG&guests={guests}&partner_id=1\"\n"
   ]
  },
  {
   "cell_type": "code",
   "execution_count": 119,
   "metadata": {},
   "outputs": [
    {
     "name": "stdout",
     "output_type": "stream",
     "text": [
      "{'id': '8e3920e5-46c6-4a1c-b21d-bc67463c2186',\n",
      " 'score': {'business': 90,\n",
      "           'couple': 90,\n",
      "           'family': 92,\n",
      "           'kaligo_overall': 4.5,\n",
      "           'overall': 90,\n",
      "           'solo': 85}}\n"
     ]
    }
   ],
   "source": [
    "hotel_response = requests.get(get_hotel_endpoint(\"diH7\"))\n",
    "hotel_json = hotel_response.json()\n",
    "pp.pprint(hotel_json['trustyou'])"
   ]
  },
  {
   "cell_type": "code",
   "execution_count": 101,
   "metadata": {},
   "outputs": [],
   "source": [
    "hotel_rooms_endpoint = get_hotel_details_endpoint(\"RsBu\",\"diH7\",\"2022-06-20\",\"2022-06-21\",\"2\")"
   ]
  },
  {
   "cell_type": "code",
   "execution_count": 111,
   "metadata": {},
   "outputs": [
    {
     "name": "stdout",
     "output_type": "stream",
     "text": [
      "[{'rate': 774.2648633459999, 'supplier': 'expedia'}]\n"
     ]
    }
   ],
   "source": [
    "hotel_rooms_response = requests.get(hotel_rooms_endpoint)\n",
    "hotel_rooms_json = hotel_rooms_response.json()\n",
    "pp.pprint(hotel_rooms_json['rooms'][0]['market_rates'])\n"
   ]
  },
  {
   "cell_type": "code",
   "execution_count": 117,
   "metadata": {},
   "outputs": [
    {
     "name": "stdout",
     "output_type": "stream",
     "text": [
      "865.66\n",
      "895.49\n",
      "965.17\n",
      "1004.96\n"
     ]
    }
   ],
   "source": [
    "for each_room in hotel_rooms_json[\"rooms\"]:\n",
    "    print(each_room['lowest_converted_price'])"
   ]
  },
  {
   "cell_type": "code",
   "execution_count": 105,
   "metadata": {},
   "outputs": [
    {
     "name": "stdout",
     "output_type": "stream",
     "text": [
      "OK\n"
     ]
    }
   ],
   "source": [
    "if (hotel_response.status_code==200 and hotel_rooms_response.status_code==200 ):\n",
    "    print(\"OK\")\n",
    "    # do parsing\n"
   ]
  },
  {
   "cell_type": "code",
   "execution_count": 120,
   "metadata": {},
   "outputs": [],
   "source": [
    "# to parse json to get needed attributes\n",
    "\n",
    "def hotel_parsed(hotel_json, hotel_rooms_json):\n",
    "    # format:\n",
    "    # { \n",
    "    #   'uid': , 'name': , 'address': , 'address1': (may be None),\n",
    "    #   'score': {'overall': ,...}, 'image_details': , 'description': , 'amenities': , \n",
    "    #   'latitude': , 'longitude': ,\n",
    "    #  'rooms': {\n",
    "    #       [ {roomNormalizedDescription, lowest_converted_price, \n",
    "    #       images, description, long_description, amenities, \n",
    "    #       free_cancellation, roomAdditonalInfo}, ... ], \n",
    "    #   } \n",
    "    #  }\n",
    "    all_rooms = []\n",
    "    for each_room in hotel_rooms_json[\"rooms\"]:\n",
    "        room = {\n",
    "            'key': each_room['key'],\n",
    "            'name': each_room['roomNormalizedDescription'],\n",
    "            'price': each_room['lowest_converted_price'],\n",
    "            'images': each_room['images'],\n",
    "            'description': each_room['description'],\n",
    "            'long_description': each_room['long_description'], # could be null\n",
    "            'amenities': each_room['amenities'],\n",
    "            'free_cancellation': each_room['free_cancellation'],\n",
    "            'roomAdditionalInfo': each_room['roomAdditionalInfo']            \n",
    "        }\n",
    "        all_rooms.append(room)\n",
    "        \n",
    "    parsed = {\n",
    "        'uid': hotel_json['id'],\n",
    "        'name': hotel_json['name'],\n",
    "        'address': hotel_json['address'],\n",
    "        'score': hotel_json['trustyou']['score'],\n",
    "        'address': hotel_json['address'],\n",
    "        'image_details': hotel_json['image_details'],\n",
    "        'description': hotel_json['description'],\n",
    "        'amenities': hotel_json['amenities'],\n",
    "        'latitude': hotel_json['latitude'],\n",
    "        'longitude': hotel_json['longitude'],\n",
    "        'rooms': all_rooms                \n",
    "        }     \n",
    "        \n",
    "    return parsed\n"
   ]
  },
  {
   "cell_type": "code",
   "execution_count": 121,
   "metadata": {},
   "outputs": [
    {
     "name": "stdout",
     "output_type": "stream",
     "text": [
      "{'address': '1 Fullerton Square',\n",
      " 'amenities': {'airConditioning': True,\n",
      "               'businessCenter': True,\n",
      "               'clothingIron': True,\n",
      "               'dataPorts': True,\n",
      "               'dryCleaning': True,\n",
      "               'hairDryer': True,\n",
      "               'meetingRooms': True,\n",
      "               'outdoorPool': True,\n",
      "               'parkingGarage': True,\n",
      "               'roomService': True,\n",
      "               'safe': True,\n",
      "               'tVInRoom': True,\n",
      "               'voiceMail': True},\n",
      " 'description': '<p><b>Property Location</b> <br />With a stay at The '\n",
      "                \"Fullerton Hotel Singapore, you'll be centrally located in \"\n",
      "                'Singapore, steps from Cavenagh Bridge and Anderson Bridge.  '\n",
      "                'This 5-star hotel is close to Chinatown Heritage Center and '\n",
      "                '<b>Universal Studios Singapore</b>®.</p><p><b>Rooms</b> <br '\n",
      "                '/>Make yourself at home in one of the 400 individually '\n",
      "                'furnished guestrooms, featuring refrigerators and plasma '\n",
      "                'televisions. Complimentary wired and wireless Internet access '\n",
      "                'keeps you connected, and satellite programming provides '\n",
      "                'entertainment. Private bathrooms with separate bathtubs and '\n",
      "                'showers feature deep soaking bathtubs and complimentary '\n",
      "                'toiletries. Conveniences include phones, as well as '\n",
      "                'laptop-compatible safes and desks.</p><p><b>Amenities</b> <br '\n",
      "                '/>Pamper yourself with a visit to the spa, which offers '\n",
      "                \"massages, body treatments, and facials. If you're looking for \"\n",
      "                \"recreational opportunities, you'll find an outdoor pool and a \"\n",
      "                'fitness center. This Colonial hotel also features '\n",
      "                'complimentary wireless Internet access, concierge services, '\n",
      "                'and gift shops/newsstands. Guests can get to nearby shops on '\n",
      "                'the complimentary shuttle.</p><p><b>Dining</b> <br />Grab a '\n",
      "                \"bite at one of the hotel's 5 restaurants, or stay in and take \"\n",
      "                'advantage of 24-hour room service. Quench your thirst with '\n",
      "                'your favorite drink at a bar/lounge. Buffet breakfasts are '\n",
      "                'available for a fee.</p><p><b>Business, Other Amenities</b> '\n",
      "                '<br />Featured amenities include complimentary high-speed '\n",
      "                '(wired) Internet access, a 24-hour business center, and '\n",
      "                'limo/town car service. Planning an event in Singapore? This '\n",
      "                'hotel has 7524 square feet (699 square meters) of space '\n",
      "                'consisting of a conference center and meeting rooms. A '\n",
      "                'roundtrip airport shuttle is provided for a surcharge '\n",
      "                '(available 24 hours), and free self parking is available '\n",
      "                'onsite.</p>',\n",
      " 'image_details': {'count': 56,\n",
      "                   'prefix': 'https://d2ey9sqrvkqdfs.cloudfront.net/diH7/',\n",
      "                   'suffix': '.jpg'},\n",
      " 'latitude': 1.28624,\n",
      " 'longitude': 103.852889,\n",
      " 'name': 'The Fullerton Hotel Singapore',\n",
      " 'rooms': [{'amenities': ['Air conditioning',\n",
      "                          'Rollaway/extra beds (surcharge)',\n",
      "                          'Towels provided',\n",
      "                          'Bedsheets provided',\n",
      "                          'Laptop-friendly workspace',\n",
      "                          'Minibar',\n",
      "                          'Coffee/tea maker',\n",
      "                          'Daily housekeeping',\n",
      "                          'Phone',\n",
      "                          'Private bathroom',\n",
      "                          'Bathrobes',\n",
      "                          'Free toiletries',\n",
      "                          'Hair dryer',\n",
      "                          'Room service (limited hours)',\n",
      "                          'Desk',\n",
      "                          'Premium bedding',\n",
      "                          'Iron/ironing board (on request)',\n",
      "                          'Turndown service',\n",
      "                          'Free bottled water',\n",
      "                          'Blackout drapes/curtains',\n",
      "                          'Slippers',\n",
      "                          'Separate bathtub and shower',\n",
      "                          'In-room safe (laptop compatible)',\n",
      "                          'Satellite TV service',\n",
      "                          'Pillow menu',\n",
      "                          'LCD TV',\n",
      "                          'Television',\n",
      "                          'Deep soaking bathtub',\n",
      "                          'Free cribs/infant beds',\n",
      "                          'Non-Smoking'],\n",
      "            'description': 'Straits Club Courtyard Room',\n",
      "            'free_cancellation': True,\n",
      "            'images': [{'hero_image': True,\n",
      "                        'high_resolution_url': 'https://i.travelapi.com/hotels/1000000/900000/893000/892940/1ff627c5_z.jpg',\n",
      "                        'url': 'https://i.travelapi.com/hotels/1000000/900000/893000/892940/1ff627c5_b.jpg'},\n",
      "                       {'hero_image': False,\n",
      "                        'high_resolution_url': 'https://i.travelapi.com/hotels/1000000/900000/893000/892940/fd2506b7_z.jpg',\n",
      "                        'url': 'https://i.travelapi.com/hotels/1000000/900000/893000/892940/fd2506b7_b.jpg'},\n",
      "                       {'hero_image': False,\n",
      "                        'high_resolution_url': 'https://i.travelapi.com/hotels/1000000/900000/893000/892940/65076944_z.jpg',\n",
      "                        'url': 'https://i.travelapi.com/hotels/1000000/900000/893000/892940/65076944_b.jpg'}],\n",
      "            'key': 'er-833B5567F5563F436F7137AA9F024797-27C86A4CB866D8AC23A7FE979F4AE6AE',\n",
      "            'long_description': '<p><strong>1 King '\n",
      "                                'Bed</strong></p><p>452-sq-foot room with '\n",
      "                                'courtyard views '\n",
      "                                '</p><br/><p><b>Entertainment</b> - 55-inch '\n",
      "                                'LCD TV with satellite channels</p><p><b>Food '\n",
      "                                '& Drink</b> - Coffee/tea maker, minibar, room '\n",
      "                                'service (limited hours), and free bottled '\n",
      "                                'water</p><p><b>Sleep</b> - Premium bedding, a '\n",
      "                                'pillow menu, blackout drapes/curtains, '\n",
      "                                'turndown service, and bed sheets '\n",
      "                                '</p><p><b>Bathroom</b> - Private bathroom, '\n",
      "                                'deep soaking bathtub and separate '\n",
      "                                'shower</p><p><b>Practical</b> - '\n",
      "                                'Laptop-compatible safe, laptop workspace, and '\n",
      "                                'phone; rollaway/extra beds and free '\n",
      "                                'cribs/infant beds available on '\n",
      "                                'request</p><p><b>Comfort</b> - Air '\n",
      "                                'conditioning and daily '\n",
      "                                'housekeeping</p><p>Non-Smoking</p>',\n",
      "            'name': 'Straits Club Courtyard Room',\n",
      "            'price': 865.66,\n",
      "            'roomAdditionalInfo': {'breakfastInfo': 'hotel_detail_breakfast_included',\n",
      "                                   'displayFields': {'check_in_instructions': None,\n",
      "                                                     'fees_mandatory': None,\n",
      "                                                     'fees_optional': None,\n",
      "                                                     'hotel_fees': [],\n",
      "                                                     'kaligo_service_fee': 65.0,\n",
      "                                                     'know_before_you_go': None,\n",
      "                                                     'special_check_in_instructions': None,\n",
      "                                                     'surcharges': [{'amount': 82.81,\n",
      "                                                                     'type': 'TaxAndServiceFee'}]}}},\n",
      "           {'amenities': ['Air conditioning',\n",
      "                          'Rollaway/extra beds (surcharge)',\n",
      "                          'Towels provided',\n",
      "                          'Bedsheets provided',\n",
      "                          'Laptop-friendly workspace',\n",
      "                          'Minibar',\n",
      "                          'Coffee/tea maker',\n",
      "                          'Daily housekeeping',\n",
      "                          'Phone',\n",
      "                          'Private bathroom',\n",
      "                          'Bathrobes',\n",
      "                          'Free toiletries',\n",
      "                          'Hair dryer',\n",
      "                          'Room service (limited hours)',\n",
      "                          'Desk',\n",
      "                          'Premium bedding',\n",
      "                          'Iron/ironing board (on request)',\n",
      "                          'Turndown service',\n",
      "                          'Free bottled water',\n",
      "                          'Blackout drapes/curtains',\n",
      "                          'Slippers',\n",
      "                          'Separate bathtub and shower',\n",
      "                          'In-room safe (laptop compatible)',\n",
      "                          'Satellite TV service',\n",
      "                          'Pillow menu',\n",
      "                          'LCD TV',\n",
      "                          'Television',\n",
      "                          'Deep soaking bathtub',\n",
      "                          'Free cribs/infant beds',\n",
      "                          'Non-Smoking'],\n",
      "            'description': 'Straits Club Heritage Room',\n",
      "            'free_cancellation': True,\n",
      "            'images': [{'hero_image': True,\n",
      "                        'high_resolution_url': 'https://i.travelapi.com/hotels/1000000/900000/893000/892940/b048ba65_z.jpg',\n",
      "                        'url': 'https://i.travelapi.com/hotels/1000000/900000/893000/892940/b048ba65_b.jpg'},\n",
      "                       {'hero_image': False,\n",
      "                        'high_resolution_url': 'https://i.travelapi.com/hotels/1000000/900000/893000/892940/fd2506b7_z.jpg',\n",
      "                        'url': 'https://i.travelapi.com/hotels/1000000/900000/893000/892940/fd2506b7_b.jpg'},\n",
      "                       {'hero_image': False,\n",
      "                        'high_resolution_url': 'https://i.travelapi.com/hotels/1000000/900000/893000/892940/65076944_z.jpg',\n",
      "                        'url': 'https://i.travelapi.com/hotels/1000000/900000/893000/892940/65076944_b.jpg'}],\n",
      "            'key': 'er-833B5567F5563F436F7137AA9F024797-E87923FB95D667AEF20D3C61C105E805',\n",
      "            'long_description': '<p><strong>1 King '\n",
      "                                'Bed</strong></p><p>409-sq-foot room with '\n",
      "                                'courtyard views '\n",
      "                                '</p><br/><p><b>Entertainment</b> - 55-inch '\n",
      "                                'LCD TV with satellite channels</p><p><b>Food '\n",
      "                                '& Drink</b> - Coffee/tea maker, minibar, room '\n",
      "                                'service (limited hours), and free bottled '\n",
      "                                'water</p><p><b>Sleep</b> - Premium bedding, a '\n",
      "                                'pillow menu, blackout drapes/curtains, '\n",
      "                                'turndown service, and bed sheets '\n",
      "                                '</p><p><b>Bathroom</b> - Private bathroom, '\n",
      "                                'deep soaking bathtub and separate '\n",
      "                                'shower</p><p><b>Practical</b> - '\n",
      "                                'Laptop-compatible safe, laptop workspace, and '\n",
      "                                'phone; rollaway/extra beds and free '\n",
      "                                'cribs/infant beds available on '\n",
      "                                'request</p><p><b>Comfort</b> - Air '\n",
      "                                'conditioning and daily '\n",
      "                                'housekeeping</p><p>Non-Smoking</p>',\n",
      "            'name': 'Straits Club Heritage Room',\n",
      "            'price': 895.49,\n",
      "            'roomAdditionalInfo': {'breakfastInfo': 'hotel_detail_breakfast_included',\n",
      "                                   'displayFields': {'check_in_instructions': None,\n",
      "                                                     'fees_mandatory': None,\n",
      "                                                     'fees_optional': None,\n",
      "                                                     'hotel_fees': [],\n",
      "                                                     'kaligo_service_fee': 67.23,\n",
      "                                                     'know_before_you_go': None,\n",
      "                                                     'special_check_in_instructions': None,\n",
      "                                                     'surcharges': [{'amount': 85.66,\n",
      "                                                                     'type': 'TaxAndServiceFee'}]}}},\n",
      "           {'amenities': ['Air conditioning',\n",
      "                          'Rollaway/extra beds (surcharge)',\n",
      "                          'Towels provided',\n",
      "                          'Bedsheets provided',\n",
      "                          'Laptop-friendly workspace',\n",
      "                          'Minibar',\n",
      "                          'Coffee/tea maker',\n",
      "                          'Daily housekeeping',\n",
      "                          'Phone',\n",
      "                          'Private bathroom',\n",
      "                          'Bathrobes',\n",
      "                          'Free toiletries',\n",
      "                          'Hair dryer',\n",
      "                          'Room service (limited hours)',\n",
      "                          'Desk',\n",
      "                          'Premium bedding',\n",
      "                          'Iron/ironing board (on request)',\n",
      "                          'Turndown service',\n",
      "                          'Free bottled water',\n",
      "                          'Blackout drapes/curtains',\n",
      "                          'Slippers',\n",
      "                          'Separate bathtub and shower',\n",
      "                          'In-room safe (laptop compatible)',\n",
      "                          'Satellite TV service',\n",
      "                          'Pillow menu',\n",
      "                          'LCD TV',\n",
      "                          'Television',\n",
      "                          'Deep soaking bathtub',\n",
      "                          'Free cribs/infant beds',\n",
      "                          'Non-Smoking'],\n",
      "            'description': 'Straits Club Quay Room',\n",
      "            'free_cancellation': True,\n",
      "            'images': [{'hero_image': True,\n",
      "                        'high_resolution_url': 'https://i.travelapi.com/hotels/1000000/900000/893000/892940/8cc6e43d_z.jpg',\n",
      "                        'url': 'https://i.travelapi.com/hotels/1000000/900000/893000/892940/8cc6e43d_b.jpg'},\n",
      "                       {'hero_image': False,\n",
      "                        'high_resolution_url': 'https://i.travelapi.com/hotels/1000000/900000/893000/892940/fd2506b7_z.jpg',\n",
      "                        'url': 'https://i.travelapi.com/hotels/1000000/900000/893000/892940/fd2506b7_b.jpg'},\n",
      "                       {'hero_image': False,\n",
      "                        'high_resolution_url': 'https://i.travelapi.com/hotels/1000000/900000/893000/892940/65076944_z.jpg',\n",
      "                        'url': 'https://i.travelapi.com/hotels/1000000/900000/893000/892940/65076944_b.jpg'}],\n",
      "            'key': 'er-833B5567F5563F436F7137AA9F024797-DA675159A94EFBCEE529B7B0FB6B0D48',\n",
      "            'long_description': '<p><strong>1 King Bed</strong></p><p>388 sq '\n",
      "                                'feet </p><br/><p><b>Entertainment</b> - '\n",
      "                                '55-inch LCD TV with satellite '\n",
      "                                'channels</p><p><b>Food & Drink</b> - '\n",
      "                                'Coffee/tea maker, minibar, room service '\n",
      "                                '(limited hours), and free bottled '\n",
      "                                'water</p><p><b>Sleep</b> - Premium bedding, a '\n",
      "                                'pillow menu, blackout drapes/curtains, '\n",
      "                                'turndown service, and bed sheets '\n",
      "                                '</p><p><b>Bathroom</b> - Private bathroom, '\n",
      "                                'deep soaking bathtub and separate '\n",
      "                                'shower</p><p><b>Practical</b> - '\n",
      "                                'Laptop-compatible safe, laptop workspace, and '\n",
      "                                'phone; rollaway/extra beds and free '\n",
      "                                'cribs/infant beds available on '\n",
      "                                'request</p><p><b>Comfort</b> - Air '\n",
      "                                'conditioning and daily '\n",
      "                                'housekeeping</p><p>Non-Smoking</p>',\n",
      "            'name': 'Straits Club Quay Room',\n",
      "            'price': 965.17,\n",
      "            'roomAdditionalInfo': {'breakfastInfo': 'hotel_detail_breakfast_included',\n",
      "                                   'displayFields': {'check_in_instructions': None,\n",
      "                                                     'fees_mandatory': None,\n",
      "                                                     'fees_optional': None,\n",
      "                                                     'hotel_fees': [],\n",
      "                                                     'kaligo_service_fee': 72.47,\n",
      "                                                     'know_before_you_go': None,\n",
      "                                                     'special_check_in_instructions': None,\n",
      "                                                     'surcharges': [{'amount': 92.33,\n",
      "                                                                     'type': 'TaxAndServiceFee'}]}}},\n",
      "           {'amenities': ['Air conditioning',\n",
      "                          'Rollaway/extra beds (surcharge)',\n",
      "                          'Towels provided',\n",
      "                          'Bedsheets provided',\n",
      "                          'Laptop-friendly workspace',\n",
      "                          'Minibar',\n",
      "                          'Coffee/tea maker',\n",
      "                          'Daily housekeeping',\n",
      "                          'Phone',\n",
      "                          'Private bathroom',\n",
      "                          'Bathrobes',\n",
      "                          'Free toiletries',\n",
      "                          'Hair dryer',\n",
      "                          'Room service (limited hours)',\n",
      "                          'Desk',\n",
      "                          'Premium bedding',\n",
      "                          'Iron/ironing board (on request)',\n",
      "                          'Turndown service',\n",
      "                          'Free bottled water',\n",
      "                          'Blackout drapes/curtains',\n",
      "                          'Slippers',\n",
      "                          'Separate bathtub and shower',\n",
      "                          'In-room safe (laptop compatible)',\n",
      "                          'Satellite TV service',\n",
      "                          'Pillow menu',\n",
      "                          'LCD TV',\n",
      "                          'Television',\n",
      "                          'Deep soaking bathtub',\n",
      "                          'Free cribs/infant beds',\n",
      "                          'Non-Smoking'],\n",
      "            'description': 'Straits Club Marina Bay View Room',\n",
      "            'free_cancellation': True,\n",
      "            'images': [{'hero_image': True,\n",
      "                        'high_resolution_url': 'https://i.travelapi.com/hotels/1000000/900000/893000/892940/a016336c_z.jpg',\n",
      "                        'url': 'https://i.travelapi.com/hotels/1000000/900000/893000/892940/a016336c_b.jpg'},\n",
      "                       {'hero_image': False,\n",
      "                        'high_resolution_url': 'https://i.travelapi.com/hotels/1000000/900000/893000/892940/fd2506b7_z.jpg',\n",
      "                        'url': 'https://i.travelapi.com/hotels/1000000/900000/893000/892940/fd2506b7_b.jpg'},\n",
      "                       {'hero_image': False,\n",
      "                        'high_resolution_url': 'https://i.travelapi.com/hotels/1000000/900000/893000/892940/65076944_z.jpg',\n",
      "                        'url': 'https://i.travelapi.com/hotels/1000000/900000/893000/892940/65076944_b.jpg'}],\n",
      "            'key': 'er-833B5567F5563F436F7137AA9F024797-23BFA71D8792C916F18649CBE63BBB44',\n",
      "            'long_description': '<p><strong>1 King '\n",
      "                                'Bed</strong></p><p>388-sq-foot room with bay '\n",
      "                                'views </p><br/><p><b>Entertainment</b> - '\n",
      "                                '55-inch LCD TV with satellite '\n",
      "                                'channels</p><p><b>Food & Drink</b> - '\n",
      "                                'Coffee/tea maker, minibar, room service '\n",
      "                                '(limited hours), and free bottled '\n",
      "                                'water</p><p><b>Sleep</b> - Premium bedding, a '\n",
      "                                'pillow menu, blackout drapes/curtains, '\n",
      "                                'turndown service, and bed sheets '\n",
      "                                '</p><p><b>Bathroom</b> - Private bathroom, '\n",
      "                                'deep soaking bathtub and separate '\n",
      "                                'shower</p><p><b>Practical</b> - '\n",
      "                                'Laptop-compatible safe, laptop workspace, and '\n",
      "                                'phone; rollaway/extra beds and free '\n",
      "                                'cribs/infant beds available on '\n",
      "                                'request</p><p><b>Comfort</b> - Air '\n",
      "                                'conditioning and daily '\n",
      "                                'housekeeping</p><p>Non-Smoking</p>',\n",
      "            'name': 'Straits Club Marina Bay View Room',\n",
      "            'price': 1004.96,\n",
      "            'roomAdditionalInfo': {'breakfastInfo': 'hotel_detail_breakfast_included',\n",
      "                                   'displayFields': {'check_in_instructions': None,\n",
      "                                                     'fees_mandatory': None,\n",
      "                                                     'fees_optional': None,\n",
      "                                                     'hotel_fees': [],\n",
      "                                                     'kaligo_service_fee': 75.46,\n",
      "                                                     'know_before_you_go': None,\n",
      "                                                     'special_check_in_instructions': None,\n",
      "                                                     'surcharges': [{'amount': 96.14,\n",
      "                                                                     'type': 'TaxAndServiceFee'}]}}}],\n",
      " 'score': {'business': 90,\n",
      "           'couple': 90,\n",
      "           'family': 92,\n",
      "           'kaligo_overall': 4.5,\n",
      "           'overall': 90,\n",
      "           'solo': 85},\n",
      " 'uid': 'diH7'}\n"
     ]
    }
   ],
   "source": [
    "pp.pprint(hotel_parsed(hotel_json,hotel_rooms_json))"
   ]
  },
  {
   "cell_type": "code",
   "execution_count": null,
   "metadata": {},
   "outputs": [],
   "source": []
  }
 ],
 "metadata": {
  "kernelspec": {
   "display_name": "Python 3.10.5 64-bit",
   "language": "python",
   "name": "python3"
  },
  "language_info": {
   "codemirror_mode": {
    "name": "ipython",
    "version": 3
   },
   "file_extension": ".py",
   "mimetype": "text/x-python",
   "name": "python",
   "nbconvert_exporter": "python",
   "pygments_lexer": "ipython3",
   "version": "3.10.5"
  },
  "orig_nbformat": 4,
  "vscode": {
   "interpreter": {
    "hash": "5498789582c53e9c2a595fd3301d6fafc0b27e6b1ae0ea4da8148d4d7e47c8ed"
   }
  }
 },
 "nbformat": 4,
 "nbformat_minor": 2
}
